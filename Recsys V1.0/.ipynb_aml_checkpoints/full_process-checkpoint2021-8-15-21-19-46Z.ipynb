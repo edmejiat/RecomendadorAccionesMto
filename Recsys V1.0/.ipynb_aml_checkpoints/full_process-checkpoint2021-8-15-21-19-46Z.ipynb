{
  "cells": [
    {
      "cell_type": "code",
      "source": [
        "from pipline import Processing\r\n",
        "import pandas as pd\r\n",
        "import numpy as np\r\n",
        "import joblib"
      ],
      "outputs": [],
      "execution_count": 1,
      "metadata": {
        "gather": {
          "logged": 1629991740918
        }
      }
    },
    {
      "cell_type": "code",
      "source": [
        "df = pd.read_csv('data/raw/prueba_original.csv', delimiter=';')"
      ],
      "outputs": [],
      "execution_count": 2,
      "metadata": {
        "collapsed": true,
        "jupyter": {
          "source_hidden": false,
          "outputs_hidden": false
        },
        "nteract": {
          "transient": {
            "deleting": false
          }
        },
        "gather": {
          "logged": 1629991909234
        }
      }
    },
    {
      "cell_type": "code",
      "source": [
        "p = Processing()"
      ],
      "outputs": [],
      "execution_count": 3,
      "metadata": {
        "collapsed": true,
        "jupyter": {
          "source_hidden": false,
          "outputs_hidden": false
        },
        "nteract": {
          "transient": {
            "deleting": false
          }
        },
        "gather": {
          "logged": 1629991913393
        }
      }
    },
    {
      "cell_type": "code",
      "source": [
        "r = p.makebd(df)\r\n",
        "lis = np.load('PeCat.npz')\r\n",
        "pc = lis['arr_0']"
      ],
      "outputs": [],
      "execution_count": 4,
      "metadata": {
        "collapsed": true,
        "jupyter": {
          "source_hidden": false,
          "outputs_hidden": false
        },
        "nteract": {
          "transient": {
            "deleting": false
          }
        },
        "gather": {
          "logged": 1629991932881
        }
      }
    },
    {
      "cell_type": "code",
      "source": [
        "r = p.standardized_texts(r, pc)"
      ],
      "outputs": [],
      "execution_count": 5,
      "metadata": {
        "collapsed": true,
        "jupyter": {
          "source_hidden": false,
          "outputs_hidden": false
        },
        "nteract": {
          "transient": {
            "deleting": false
          }
        },
        "gather": {
          "logged": 1629991945208
        }
      }
    },
    {
      "cell_type": "code",
      "source": [
        "pp = p.bd_principal(r)\r\n",
        "pp = p.standardized_columns(pp)\r\n",
        "bd, bd_t = p.creation_bds(pp, r)\r\n",
        "\r\n",
        "dga, oilp, oil_tap, oil_corr, insp, hump, hum_pap = bd\r\n",
        "for i in range(0,len(bd)):\r\n",
        "    base = bd[i]\r\n",
        "    base.to_csv('data/processed/' + bd_t[i] + '.csv', sep = ';', index = False)"
      ],
      "outputs": [],
      "execution_count": 7,
      "metadata": {
        "collapsed": true,
        "jupyter": {
          "source_hidden": false,
          "outputs_hidden": false
        },
        "nteract": {
          "transient": {
            "deleting": false
          }
        },
        "gather": {
          "logged": 1629992062701
        }
      }
    },
    {
      "cell_type": "code",
      "source": [
        "def test_preprocessing(df, secundarias, enc_perfil):\r\n",
        "    \r\n",
        "    copy = df\r\n",
        "    if 'FECHA' in copy.columns:\r\n",
        "        copy = copy.drop(columns=['FECHA'])\r\n",
        "\r\n",
        "    for column in secundarias:\r\n",
        "        ## checking_first\r\n",
        "        try:\r\n",
        "            if any(char.isdigit() for char in copy[copy[column].notna()][column].iloc[0]):\r\n",
        "\r\n",
        "                copy[column] = copy[column].apply(column_transf)\r\n",
        "\r\n",
        "            else:\r\n",
        "                copy[column] = copy[column].isnull()\r\n",
        "        \r\n",
        "        except IndexError:\r\n",
        "            copy[column] = False\r\n",
        "\r\n",
        "    \r\n",
        "    copy['perfil_catalogo'] = enc_perfil.transform(copy['perfil_catalogo'])\r\n",
        "\r\n",
        "    return copy\r\n",
        "\r\n",
        "\r\n",
        "\r\n",
        "def column_transf(x):\r\n",
        "    '''Get first element of string. It must be calification o secundary column.'''\r\n",
        "    if str(x)[0].isdigit():\r\n",
        "        return str(x)[0]\r\n",
        "    else: \r\n",
        "        return -1"
      ],
      "outputs": [],
      "execution_count": 8,
      "metadata": {
        "collapsed": true,
        "jupyter": {
          "source_hidden": false,
          "outputs_hidden": false
        },
        "nteract": {
          "transient": {
            "deleting": false
          }
        },
        "gather": {
          "logged": 1629992104288
        }
      }
    },
    {
      "cell_type": "code",
      "source": [
        "enc_perfil = joblib.load('utils/encoder_perfil.pkl')\r\n",
        "enc_avisos = joblib.load('utils/encoder_avisos.pkl')\r\n",
        "\r\n",
        "rf_hump = joblib.load('models/rf_hump.pkl')\r\n",
        "rf_humpap = joblib.load('models/rf_humpap.pkl')\r\n",
        "rf_dga = joblib.load('models/rf_dga.pkl')\r\n",
        "rf_insp = joblib.load('models/rf_insp.pkl')\r\n",
        "rf_oiltap = joblib.load('models/rf_oiltap.pkl')\r\n",
        "rf_oil = joblib.load('models/rf_oil.pkl')\r\n",
        "\r\n",
        "hump_sec = ['DIAG', 'DELTA', 'SILI.GEL','T_M','FUG.ACEI','ING.ANIM','FUN.TERM','RES.CALEF','NIV.ACEI','SIST.ENF']\r\n",
        "dga_sec = ['ARC','T.ACE','T.PAP','DP']\r\n",
        "humpap_sec = ['NO.EQ','DELTA','DIAG','WHRT']\r\n",
        "insp_sec = ['BUJ','ENF','M.OLTC','PRO-M','CUB','GAB','FUG.ACEI','COMP.ELEC','COMP.MEC','RES.CALEF']\r\n",
        "oil_sec = ['DIE','FQ']\r\n",
        "oiltap_sec = ['DIAG','DELTA-A','DELTA-B','DELTA-C']"
      ],
      "outputs": [
        {
          "output_type": "stream",
          "name": "stderr",
          "text": [
            "/anaconda/envs/azureml_py36/lib/python3.6/site-packages/sklearn/base.py:318: UserWarning: Trying to unpickle estimator LabelEncoder from version 0.23.2 when using version 0.22.2.post1. This might lead to breaking code or invalid results. Use at your own risk.\n",
            "  UserWarning)\n",
            "/anaconda/envs/azureml_py36/lib/python3.6/site-packages/sklearn/base.py:318: UserWarning: Trying to unpickle estimator DecisionTreeClassifier from version 0.23.2 when using version 0.22.2.post1. This might lead to breaking code or invalid results. Use at your own risk.\n",
            "  UserWarning)\n",
            "/anaconda/envs/azureml_py36/lib/python3.6/site-packages/sklearn/base.py:318: UserWarning: Trying to unpickle estimator RandomForestClassifier from version 0.23.2 when using version 0.22.2.post1. This might lead to breaking code or invalid results. Use at your own risk.\n",
            "  UserWarning)\n"
          ]
        }
      ],
      "execution_count": 9,
      "metadata": {
        "collapsed": true,
        "jupyter": {
          "source_hidden": false,
          "outputs_hidden": false
        },
        "nteract": {
          "transient": {
            "deleting": false
          }
        },
        "gather": {
          "logged": 1629992281237
        }
      }
    },
    {
      "cell_type": "code",
      "source": [
        "test_humpap = pd.read_csv('data/processed/hum_pap.csv', delimiter=';')\r\n",
        "thumpap_filt = test_preprocessing(test_humpap, secundarias = humpap_sec, enc_perfil=enc_perfil)\r\n",
        "thumpap_filt = thumpap_filt.dropna(subset=['HUM_PAP'])\r\n",
        "thumpap_filt = thumpap_filt[thumpap_filt['HUM_PAP'] <= 3]\r\n",
        "ids = thumpap_filt['id_unique']\r\n",
        "thumpap_filt = thumpap_filt.drop(columns=['id_unique'])\r\n",
        "preds = rf_humpap.predict(thumpap_filt)\r\n",
        "preds = enc_avisos.inverse_transform(preds)\r\n",
        "humpap_preds = list(zip(preds, ids))\r\n",
        "humpap_preds = pd.DataFrame(humpap_preds, columns=['pred','id'])\r\n",
        "\r\n",
        "test_hump = pd.read_csv('data/processed/hump.csv', delimiter=';')\r\n",
        "thump_filt = test_preprocessing(test_hump, secundarias = hump_sec, enc_perfil=enc_perfil)\r\n",
        "thump_filt = thump_filt.dropna(subset=['HUMP'])\r\n",
        "thump_filt = thump_filt[thump_filt['HUMP'] <= 3]\r\n",
        "ids = thump_filt['id_unique']\r\n",
        "thump_filt = thump_filt.drop(columns=['id_unique'])\r\n",
        "preds = rf_hump.predict(thump_filt)\r\n",
        "preds = enc_avisos.inverse_transform(preds)\r\n",
        "hump_preds = list(zip(preds, ids))\r\n",
        "hump_preds = pd.DataFrame(hump_preds, columns=['pred','id'])\r\n",
        "\r\n",
        "test_dga = pd.read_csv('data/processed/dga.csv', delimiter=';')\r\n",
        "tdga_filt = test_preprocessing(test_dga, secundarias = dga_sec, enc_perfil=enc_perfil)\r\n",
        "tdga_filt = tdga_filt.dropna(subset=['DGA'])\r\n",
        "tdga_filt = tdga_filt[tdga_filt['DGA'] <= 3]\r\n",
        "ids = tdga_filt['id_unique']\r\n",
        "tdga_filt = tdga_filt.drop(columns=['id_unique'])\r\n",
        "preds = rf_dga.predict(tdga_filt)\r\n",
        "preds = enc_avisos.inverse_transform(preds)\r\n",
        "dga_preds = list(zip(preds, ids))\r\n",
        "dga_preds = pd.DataFrame(dga_preds, columns=['pred','id'])\r\n",
        "\r\n",
        "test_insp = pd.read_csv('data/processed/insp.csv', delimiter=';')\r\n",
        "tinsp_filt = test_preprocessing(test_insp, secundarias = insp_sec, enc_perfil=enc_perfil)\r\n",
        "tinsp_filt = tinsp_filt.dropna(subset=['INSP'])\r\n",
        "tinsp_filt = tinsp_filt[tinsp_filt['INSP'] <= 3]\r\n",
        "ids = tinsp_filt['id_unique']\r\n",
        "tinsp_filt = tinsp_filt.drop(columns=['id_unique'])\r\n",
        "preds = rf_insp.predict(tinsp_filt)\r\n",
        "preds = enc_avisos.inverse_transform(preds)\r\n",
        "insp_preds = list(zip(preds, ids))\r\n",
        "insp_preds = pd.DataFrame(insp_preds, columns=['pred','id'])\r\n",
        "\r\n",
        "test_oiltap = pd.read_csv('data/processed/oil_tap.csv', delimiter=';')\r\n",
        "toiltap_filt = test_preprocessing(test_oiltap, secundarias = oiltap_sec, enc_perfil=enc_perfil)\r\n",
        "toiltap_filt = toiltap_filt.dropna(subset=['OIL.TAP'])\r\n",
        "toiltap_filt = toiltap_filt[toiltap_filt['OIL.TAP'] <= 3]\r\n",
        "ids = toiltap_filt['id_unique']\r\n",
        "toiltap_filt = toiltap_filt.drop(columns=['id_unique'])\r\n",
        "preds = rf_oiltap.predict(toiltap_filt)\r\n",
        "preds = enc_avisos.inverse_transform(preds)\r\n",
        "oiltap_preds = list(zip(preds, ids))\r\n",
        "oiltap_preds = pd.DataFrame(insp_preds, columns=['pred','id'])\r\n",
        "\r\n",
        "test_oil = pd.read_csv('data/processed/oilp.csv', delimiter=';')\r\n",
        "toil_filt = test_preprocessing(test_oil, secundarias = oil_sec, enc_perfil=enc_perfil)\r\n",
        "toil_filt = toil_filt.dropna(subset=['OILP'])\r\n",
        "toil_filt = toil_filt[toil_filt['OILP'] <= 3]\r\n",
        "ids = toil_filt['id_unique']\r\n",
        "toil_filt = toil_filt.drop(columns=['id_unique'])\r\n",
        "preds = rf_oil.predict(toil_filt)\r\n",
        "preds = enc_avisos.inverse_transform(preds)\r\n",
        "oil_preds = list(zip(preds, ids))\r\n",
        "oil_preds = pd.DataFrame(oil_preds, columns=['pred','id'])"
      ],
      "outputs": [],
      "execution_count": 11,
      "metadata": {
        "collapsed": true,
        "jupyter": {
          "source_hidden": false,
          "outputs_hidden": false
        },
        "nteract": {
          "transient": {
            "deleting": false
          }
        },
        "gather": {
          "logged": 1629992448480
        }
      }
    },
    {
      "cell_type": "code",
      "source": [
        "pru = r\r\n",
        "preds = humpap_preds.append([dga_preds, insp_preds, oiltap_preds,hump_preds,oil_preds])\r\n",
        "\r\n",
        "ids = preds['id'].value_counts().index\r\n",
        "res = []\r\n",
        "for id in ids:\r\n",
        "    p = list(preds[preds['id'] == id]['pred'])\r\n",
        "    data = [id,p]\r\n",
        "    res.append(data)\r\n",
        "    \r\n",
        "recomendaciones = pd.DataFrame(res,columns=['id_unique','recomendaciones'])\r\n",
        "\r\n",
        "resultado = pru.set_index('id_unique').join(recomendaciones.set_index('id_unique'))"
      ],
      "outputs": [],
      "execution_count": 12,
      "metadata": {
        "collapsed": true,
        "jupyter": {
          "source_hidden": false,
          "outputs_hidden": false
        },
        "nteract": {
          "transient": {
            "deleting": false
          }
        },
        "gather": {
          "logged": 1629992478667
        }
      }
    },
    {
      "cell_type": "code",
      "source": [
        "resultado.to_csv('data/recomendaciones/recs.csv')"
      ],
      "outputs": [],
      "execution_count": 17,
      "metadata": {
        "collapsed": true,
        "jupyter": {
          "source_hidden": false,
          "outputs_hidden": false
        },
        "nteract": {
          "transient": {
            "deleting": false
          }
        },
        "gather": {
          "logged": 1629992760723
        }
      }
    }
  ],
  "metadata": {
    "kernelspec": {
      "name": "python3-azureml",
      "language": "python",
      "display_name": "Python 3.6 - AzureML"
    },
    "language_info": {
      "name": "python",
      "version": "3.6.9",
      "mimetype": "text/x-python",
      "codemirror_mode": {
        "name": "ipython",
        "version": 3
      },
      "pygments_lexer": "ipython3",
      "nbconvert_exporter": "python",
      "file_extension": ".py"
    },
    "kernel_info": {
      "name": "python3-azureml"
    },
    "microsoft": {
      "host": {
        "AzureML": {
          "notebookHasBeenCompleted": true
        }
      }
    },
    "nteract": {
      "version": "nteract-front-end@1.0.0"
    }
  },
  "nbformat": 4,
  "nbformat_minor": 2
}