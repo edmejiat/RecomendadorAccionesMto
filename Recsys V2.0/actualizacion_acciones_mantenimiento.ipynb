{
  "cells": [
    {
      "cell_type": "code",
      "source": [
        "import pandas as pd\r\n",
        "import numpy as np"
      ],
      "outputs": [],
      "execution_count": 1,
      "metadata": {
        "gather": {
          "logged": 1633720873761
        }
      }
    },
    {
      "cell_type": "code",
      "source": [
        "pd.__version__"
      ],
      "outputs": [
        {
          "output_type": "execute_result",
          "execution_count": 2,
          "data": {
            "text/plain": "'1.3.3'"
          },
          "metadata": {}
        }
      ],
      "execution_count": 2,
      "metadata": {
        "jupyter": {
          "source_hidden": false,
          "outputs_hidden": false
        },
        "nteract": {
          "transient": {
            "deleting": false
          }
        },
        "gather": {
          "logged": 1633720874218
        }
      }
    },
    {
      "cell_type": "markdown",
      "source": [
        "# Procesamiento columna 'Descripción'"
      ],
      "metadata": {
        "nteract": {
          "transient": {
            "deleting": false
          }
        }
      }
    },
    {
      "cell_type": "code",
      "source": [
        "excel_file = pd.ExcelFile('./data/raw/actualizacion_acciones_mantenimiento/data.xlsx', engine='openpyxl')\r\n",
        "sheets = excel_file.sheet_names\r\n",
        "sheets"
      ],
      "outputs": [
        {
          "output_type": "execute_result",
          "execution_count": 3,
          "data": {
            "text/plain": "['Lista de equipos',\n 'Historico calif 2_1(10 años)',\n 'T-PAP(C)_T-ACE',\n 'ARC(I)_ARC(D)',\n 'DP',\n 'OIL.TAP',\n 'DIEL.PF_ DIEL',\n 'OIL.CORR',\n 'PRO-M',\n 'M.OLTC']"
          },
          "metadata": {}
        }
      ],
      "execution_count": 3,
      "metadata": {
        "jupyter": {
          "source_hidden": false,
          "outputs_hidden": false
        },
        "nteract": {
          "transient": {
            "deleting": false
          }
        },
        "gather": {
          "logged": 1633720874726
        }
      }
    },
    {
      "cell_type": "code",
      "source": [
        "import unidecode\r\n",
        "\r\n",
        "def norm_descrpcion(s):\r\n",
        "    s = s.lower()\r\n",
        "    s = unidecode.unidecode(s)\r\n",
        "    return s\r\n",
        "\r\n",
        "converter_descripcion = {}\r\n",
        "converter_descripcion['Descripción'] = norm_descrpcion\r\n",
        "\r\n",
        "df_collection = {}\r\n",
        "for name in sheets:\r\n",
        "    df_collection[name] = pd.read_excel('./data/raw/actualizacion_acciones_mantenimiento/data.xlsx', sheet_name=name, converters=converter_descripcion)"
      ],
      "outputs": [],
      "execution_count": 4,
      "metadata": {
        "jupyter": {
          "source_hidden": false,
          "outputs_hidden": false
        },
        "nteract": {
          "transient": {
            "deleting": false
          }
        },
        "gather": {
          "logged": 1633720878144
        }
      }
    },
    {
      "cell_type": "markdown",
      "source": [
        "## Separación manual"
      ],
      "metadata": {
        "nteract": {
          "transient": {
            "deleting": false
          }
        }
      }
    },
    {
      "cell_type": "code",
      "source": [
        "def separacion_manual(dframe, originales, reemplazos, adiciones):\r\n",
        "    df = dframe.copy()\r\n",
        "    for i in range(len(originales)):\r\n",
        "        index = df['Descripción'] == originales[i]\r\n",
        "        if sum(index) > 0:\r\n",
        "            instancias = df.loc[index].copy()\r\n",
        "            df.loc[index,'Descripción'] = reemplazos[i]\r\n",
        "            df = df.append(instancias, ignore_index = True)\r\n",
        "            df.loc[len(df) - sum(index):,'Descripción'] = adiciones[i]\r\n",
        "    return df\r\n",
        "\r\n",
        "\r\n",
        "\r\n",
        "\r\n",
        "df_collection_separados = {}\r\n",
        "\r\n",
        "excel_file_reemplazos = pd.ExcelFile('./data/raw/actualizacion_acciones_mantenimiento/reemplazos_manual.xlsx')\r\n",
        "sheets_reemplazos = excel_file_reemplazos.sheet_names\r\n",
        "df_collection_manuales = {}\r\n",
        "\r\n",
        "converter_manuales = {}\r\n",
        "converter_manuales['Originales'] = norm_descrpcion\r\n",
        "converter_manuales['Reemplazos'] = norm_descrpcion\r\n",
        "converter_manuales['Adiciones'] = norm_descrpcion\r\n",
        "\r\n",
        "for name in sheets_reemplazos:#sheets_reemplazos:\r\n",
        "    df_collection_manuales[name] = pd.read_excel('./data/raw/actualizacion_acciones_mantenimiento/reemplazos_manual.xlsx', sheet_name = name, converters = converter_manuales)\r\n",
        "    index_manuales = ~df_collection_manuales[name].loc[:,'Reemplazos'].isna()\r\n",
        "    originales = df_collection_manuales[name].loc[index_manuales, 'Originales'].values\r\n",
        "    reemplazos = df_collection_manuales[name].loc[index_manuales, 'Reemplazos'].values\r\n",
        "    adiciones = df_collection_manuales[name].loc[index_manuales, 'Adiciones'].values\r\n",
        "    df_collection_separados[name] = separacion_manual(df_collection[name], originales, reemplazos, adiciones)"
      ],
      "outputs": [],
      "execution_count": 5,
      "metadata": {
        "jupyter": {
          "source_hidden": false,
          "outputs_hidden": false
        },
        "nteract": {
          "transient": {
            "deleting": false
          }
        },
        "gather": {
          "logged": 1633720879429
        }
      }
    },
    {
      "cell_type": "markdown",
      "source": [
        "## Normalización por palabras clave"
      ],
      "metadata": {
        "nteract": {
          "transient": {
            "deleting": false
          }
        }
      }
    },
    {
      "cell_type": "code",
      "source": [
        "palabras_clave = {}\r\n",
        "palabras_clave['revisar/cambiar motoventilador'] = ['motoventilador','ventilador','motoventiladores','ventiladores']\r\n",
        "palabras_clave['realizar analisis dga y humedad seguimiento'] = ['dga']\r\n",
        "palabras_clave['hacer seguimiento generacion anormal de gases'] = ['generacion','energizacion','gases']\r\n",
        "palabras_clave['cambiar silica oltc'] = ['silica']\r\n",
        "palabras_clave['cambiar filtro oltc'] = ['filtro']\r\n",
        "palabras_clave['realizar secado oltc'] = ['secado']\r\n",
        "palabras_clave['realizar muestreo-analisis fsco-qco oltc'] = ['aceite','muestra','fsco','qco']\r\n",
        "palabras_clave['realizar regeneramiento aceite aislante'] = ['regeneramiento','regeneracion']\r\n",
        "palabras_clave['adicionar irgamet39 a 100ppm'] = ['irgamet','pasivador','pasivar']\r\n",
        "palabras_clave['temperatura devenado'] = ['calibrar indicador temperatura devanados']\r\n",
        "palabras_clave['efectuar prueba de descargas parciales'] = ['descargas parc']\r\n",
        "palabras_clave['seguimiento durante montaje'] = ['durante montaje']\r\n",
        "palabras_clave['verificar condicion antes energizar oltc'] = ['energizar']\r\n",
        "palabras_clave['realizar prueba estimacion humedad whrt'] = ['estimacion humedad']\r\n",
        "palabras_clave['cambiar valvula alivio presion'] = ['alivio presion', 'alivio de presion','valvula alivio','valvula de alivio','valvula de sobre presion','valvula sobre presion','valvula de sobrepresion','valvula sobrepresion']\r\n",
        "palabras_clave['presion subita'] = ['cambiar rele presion subita']\r\n",
        "palabras_clave['revisar/cambiar contador cambiador tapsbiador'] = ['contador']\r\n",
        "df_collection_pc = df_collection_separados.copy()\r\n",
        "unicos_pc = {}\r\n",
        "index_unicos_pc = {}\r\n",
        "\r\n",
        "for name in sheets_reemplazos:\r\n",
        "    unicos = pd.unique(df_collection_separados[name]['Descripción'])\r\n",
        "    index_unicos = np.zeros(len(unicos))\r\n",
        "    for i in range(len(unicos)):\r\n",
        "        index_unicos[i] = i\r\n",
        "        for key,value in palabras_clave.items():\r\n",
        "            for word in value:\r\n",
        "                if word in unicos[i]:\r\n",
        "                    df_collection_pc[name] = df_collection_pc[name].replace(unicos[i],key)\r\n",
        "                    unicos[i] = key\r\n",
        "                    break\r\n",
        "    unicos_pc[name] = unicos\r\n",
        "    index_unicos_pc[name] = index_unicos"
      ],
      "outputs": [],
      "execution_count": 6,
      "metadata": {
        "jupyter": {
          "source_hidden": false,
          "outputs_hidden": false
        },
        "nteract": {
          "transient": {
            "deleting": false
          }
        },
        "gather": {
          "logged": 1633720880252
        }
      }
    },
    {
      "cell_type": "markdown",
      "source": [
        "## Aplicando algoritmo de distancia de Levenshtein"
      ],
      "metadata": {
        "nteract": {
          "transient": {
            "deleting": false
          }
        }
      }
    },
    {
      "cell_type": "markdown",
      "source": [
        "### Algoritmo de distancia de Levenshtein"
      ],
      "metadata": {
        "nteract": {
          "transient": {
            "deleting": false
          }
        }
      }
    },
    {
      "cell_type": "code",
      "source": [
        "def dist_lev(s1,s2):\r\n",
        "    dist_matrix = np.zeros((len(s1) + 1, len(s2) + 1))\r\n",
        "    dist_matrix[1:,0] = range(1,len(s1) + 1)\r\n",
        "    dist_matrix[0,1:] = range(1,len(s2) + 1)\r\n",
        "    for i in range(1, len(s1) + 1):\r\n",
        "        for j in range(1, len(s2) + 1):\r\n",
        "            if s1[i - 1] == s2[j - 1]:\r\n",
        "                dist_matrix[i,j] = min(dist_matrix[i - 1, j] + 1, \r\n",
        "                                    dist_matrix[i - 1, j - 1], \r\n",
        "                                    dist_matrix[i, j - 1] + 1)\r\n",
        "            else:\r\n",
        "                dist_matrix[i,j] = min(dist_matrix[i - 1, j] + 1, \r\n",
        "                                    dist_matrix[i - 1, j - 1] + 1, \r\n",
        "                                    dist_matrix[i, j - 1] + 1)\r\n",
        "    return dist_matrix[-1,-1]"
      ],
      "outputs": [],
      "execution_count": 7,
      "metadata": {
        "jupyter": {
          "source_hidden": false,
          "outputs_hidden": false
        },
        "nteract": {
          "transient": {
            "deleting": false
          }
        },
        "gather": {
          "logged": 1633720880711
        }
      }
    },
    {
      "cell_type": "markdown",
      "source": [
        "### Aplicando y ordenando según distancia"
      ],
      "metadata": {
        "nteract": {
          "transient": {
            "deleting": false
          }
        }
      }
    },
    {
      "cell_type": "code",
      "source": [
        "# Extrayendo valores únicos:\r\n",
        "ordenados_collection = {}\r\n",
        "dist_ordenados_collection = {}\r\n",
        "index_ordenados_collection = {}\r\n",
        "for name in sheets_reemplazos:\r\n",
        "    unicos = pd.unique(unicos_pc[name])\r\n",
        "    #Construyendo matriz de distancia de Levenshtein\r\n",
        "    dist_unicos = np.zeros((len(unicos), len(unicos)))\r\n",
        "    for i in range(len(unicos)):\r\n",
        "        for j in range(i + 1, len(unicos)):\r\n",
        "            dist_unicos[i, j] = dist_lev(unicos[i], unicos[j])\r\n",
        "            dist_unicos[j,i] = dist_unicos[i,j] \r\n",
        "    #Inizializar varibales\r\n",
        "    # dist_unicos = np.array([[0,8,8,10.5],[1,0,4,3],[2,5,0,6],[8,10,7,0]])\r\n",
        "    # unicos = [1,2,3,4]\r\n",
        "    ordenados = ['']*len(unicos)\r\n",
        "    dist_ordenados = np.zeros(len(unicos))\r\n",
        "    index_ordenados = np.zeros(len(unicos))\r\n",
        "    #Ubicando primer elemento\r\n",
        "    max_dist_index = np.argmax(dist_unicos)\r\n",
        "    max_dist_index = np.unravel_index(max_dist_index, np.shape(dist_unicos))\r\n",
        "    row = max_dist_index[0]\r\n",
        "    ordenados[0] = unicos[row]\r\n",
        "    index_ordenados[0] = row\r\n",
        "    dist_ordenados[0] = 0\r\n",
        "    dist_unicos[row,:] = np.inf\r\n",
        "    #Diagonal igual a infinito\r\n",
        "    for i in range(len(unicos)):\r\n",
        "        dist_unicos[i,i] = np.inf\r\n",
        "    #Ubicando el resto de los elementos\r\n",
        "    for i in range(len(unicos) - 1):\r\n",
        "        min_dist = np.min(dist_unicos[:,row])\r\n",
        "        dist_ordenados[i + 1] = dist_ordenados[i] + min_dist\r\n",
        "        row = np.argmin(dist_unicos[:,row])\r\n",
        "        ordenados[i + 1] = unicos[row]\r\n",
        "        index_ordenados[i + 1] = row\r\n",
        "        dist_unicos[row,:] = np.inf\r\n",
        "    #Ubicándolos por hoja\r\n",
        "    ordenados_collection[name] = ordenados\r\n",
        "    dist_ordenados_collection[name] = dist_ordenados\r\n",
        "    index_ordenados_collection[name] = index_ordenados"
      ],
      "outputs": [],
      "execution_count": 8,
      "metadata": {
        "jupyter": {
          "source_hidden": false,
          "outputs_hidden": false
        },
        "nteract": {
          "transient": {
            "deleting": false
          }
        },
        "gather": {
          "logged": 1633720924318
        }
      }
    },
    {
      "cell_type": "markdown",
      "source": [
        "### Escribiendo los resultados en Excel"
      ],
      "metadata": {
        "nteract": {
          "transient": {
            "deleting": false
          }
        }
      }
    },
    {
      "cell_type": "code",
      "source": [
        "import xlsxwriter\r\n",
        "workbook = xlsxwriter.Workbook('./data/processed/actualizacion_acciones_mantenimiento/unicos_ordenados.xlsx')\r\n",
        "for name in sheets_reemplazos:\r\n",
        "    worksheet = workbook.add_worksheet(name)\r\n",
        "    for i in range(len(ordenados_collection[name])): \r\n",
        "        worksheet.write(i,0,ordenados_collection[name][i])\r\n",
        "        worksheet.write(i,1,ordenados_collection[name][i])\r\n",
        "        worksheet.write(i,2,dist_ordenados_collection[name][i])\r\n",
        "        worksheet.write(i,3,index_ordenados_collection[name][i])\r\n",
        "\r\n",
        "workbook.close()"
      ],
      "outputs": [],
      "execution_count": 9,
      "metadata": {
        "jupyter": {
          "source_hidden": false,
          "outputs_hidden": false
        },
        "nteract": {
          "transient": {
            "deleting": false
          }
        },
        "gather": {
          "logged": 1633720924986
        }
      }
    },
    {
      "cell_type": "markdown",
      "source": [
        "# Separación por equipos"
      ],
      "metadata": {
        "nteract": {
          "transient": {
            "deleting": false
          }
        }
      }
    },
    {
      "cell_type": "code",
      "source": [
        "equipos_unicos = pd.unique(df_collection['Lista de equipos']['Equipo'])\r\n",
        "df_collection_equipos = {}\r\n",
        "for sheet in sheets_reemplazos:\r\n",
        "    df_collection_equipos[sheet] = pd.DataFrame()\r\n",
        "    equipos_unicos = pd.unique(df_collection_pc[sheet]['Equipo'])\r\n",
        "    for equipo in equipos_unicos:\r\n",
        "        df_equipo = df_collection_pc[sheet].loc[df_collection_pc[sheet]['Equipo'] == equipo].copy()\r\n",
        "        descripciones_unicas = pd.unique(df_equipo['Descripción'])\r\n",
        "        equipo_descripcion = {'Equipo':[equipo]*len(descripciones_unicas),'Descripción':descripciones_unicas}\r\n",
        "        df_collection_equipos[sheet] = df_collection_equipos[sheet].append(pd.DataFrame(equipo_descripcion),ignore_index = True)"
      ],
      "outputs": [],
      "execution_count": 10,
      "metadata": {
        "jupyter": {
          "source_hidden": false,
          "outputs_hidden": false
        },
        "nteract": {
          "transient": {
            "deleting": false
          }
        },
        "gather": {
          "logged": 1633720925377
        }
      }
    },
    {
      "cell_type": "code",
      "source": [
        "k = list(df_collection_equipos.keys())"
      ],
      "outputs": [],
      "execution_count": 11,
      "metadata": {
        "jupyter": {
          "source_hidden": false,
          "outputs_hidden": false
        },
        "nteract": {
          "transient": {
            "deleting": false
          }
        },
        "gather": {
          "logged": 1633720925802
        }
      }
    },
    {
      "cell_type": "code",
      "source": [
        "df = pd.DataFrame(columns=['Equipo','Descripción','Medida'])\r\n",
        "for i in range(len(k)):\r\n",
        "    prov = pd.DataFrame.from_dict(df_collection_equipos[k[i]])\r\n",
        "    prov['Medida'] = k[i]\r\n",
        "    df = df.append(prov)\r\n",
        "df\r\n"
      ],
      "outputs": [
        {
          "output_type": "execute_result",
          "execution_count": 12,
          "data": {
            "text/plain": "    Equipo                                  Descripción          Medida\n0   809578  realizar analisis dga y humedad seguimiento  T-PAP(C)_T-ACE\n1   809578               revisar/cambiar motoventilador  T-PAP(C)_T-ACE\n2   809578        efectuar seguimiento anomalia termica  T-PAP(C)_T-ACE\n3   809578     realizar muestreo-analisis fsco-qco oltc  T-PAP(C)_T-ACE\n4   810449  realizar analisis dga y humedad seguimiento  T-PAP(C)_T-ACE\n..     ...                                          ...             ...\n72  201582     realizar muestreo-analisis fsco-qco oltc          M.OLTC\n73  201582                          cambiar filtro oltc          M.OLTC\n74  200646                   corregir pendiente en oltc          M.OLTC\n75  200646     realizar evaluacion condicion aceit oltc          M.OLTC\n76  200646     realizar muestreo-analisis fsco-qco oltc          M.OLTC\n\n[861 rows x 3 columns]",
            "text/html": "<div>\n<style scoped>\n    .dataframe tbody tr th:only-of-type {\n        vertical-align: middle;\n    }\n\n    .dataframe tbody tr th {\n        vertical-align: top;\n    }\n\n    .dataframe thead th {\n        text-align: right;\n    }\n</style>\n<table border=\"1\" class=\"dataframe\">\n  <thead>\n    <tr style=\"text-align: right;\">\n      <th></th>\n      <th>Equipo</th>\n      <th>Descripción</th>\n      <th>Medida</th>\n    </tr>\n  </thead>\n  <tbody>\n    <tr>\n      <th>0</th>\n      <td>809578</td>\n      <td>realizar analisis dga y humedad seguimiento</td>\n      <td>T-PAP(C)_T-ACE</td>\n    </tr>\n    <tr>\n      <th>1</th>\n      <td>809578</td>\n      <td>revisar/cambiar motoventilador</td>\n      <td>T-PAP(C)_T-ACE</td>\n    </tr>\n    <tr>\n      <th>2</th>\n      <td>809578</td>\n      <td>efectuar seguimiento anomalia termica</td>\n      <td>T-PAP(C)_T-ACE</td>\n    </tr>\n    <tr>\n      <th>3</th>\n      <td>809578</td>\n      <td>realizar muestreo-analisis fsco-qco oltc</td>\n      <td>T-PAP(C)_T-ACE</td>\n    </tr>\n    <tr>\n      <th>4</th>\n      <td>810449</td>\n      <td>realizar analisis dga y humedad seguimiento</td>\n      <td>T-PAP(C)_T-ACE</td>\n    </tr>\n    <tr>\n      <th>...</th>\n      <td>...</td>\n      <td>...</td>\n      <td>...</td>\n    </tr>\n    <tr>\n      <th>72</th>\n      <td>201582</td>\n      <td>realizar muestreo-analisis fsco-qco oltc</td>\n      <td>M.OLTC</td>\n    </tr>\n    <tr>\n      <th>73</th>\n      <td>201582</td>\n      <td>cambiar filtro oltc</td>\n      <td>M.OLTC</td>\n    </tr>\n    <tr>\n      <th>74</th>\n      <td>200646</td>\n      <td>corregir pendiente en oltc</td>\n      <td>M.OLTC</td>\n    </tr>\n    <tr>\n      <th>75</th>\n      <td>200646</td>\n      <td>realizar evaluacion condicion aceit oltc</td>\n      <td>M.OLTC</td>\n    </tr>\n    <tr>\n      <th>76</th>\n      <td>200646</td>\n      <td>realizar muestreo-analisis fsco-qco oltc</td>\n      <td>M.OLTC</td>\n    </tr>\n  </tbody>\n</table>\n<p>861 rows × 3 columns</p>\n</div>"
          },
          "metadata": {}
        }
      ],
      "execution_count": 12,
      "metadata": {
        "jupyter": {
          "source_hidden": false,
          "outputs_hidden": false
        },
        "nteract": {
          "transient": {
            "deleting": false
          }
        },
        "gather": {
          "logged": 1633720926235
        }
      }
    },
    {
      "cell_type": "code",
      "source": [
        "df[df['Equipo'] == 809578]"
      ],
      "outputs": [
        {
          "output_type": "execute_result",
          "execution_count": 13,
          "data": {
            "text/plain": "    Equipo                                    Descripción          Medida\n0   809578    realizar analisis dga y humedad seguimiento  T-PAP(C)_T-ACE\n1   809578                 revisar/cambiar motoventilador  T-PAP(C)_T-ACE\n2   809578          efectuar seguimiento anomalia termica  T-PAP(C)_T-ACE\n3   809578       realizar muestreo-analisis fsco-qco oltc  T-PAP(C)_T-ACE\n0   809578    realizar analisis dga y humedad seguimiento   ARC(I)_ARC(D)\n1   809578         efectuar prueba de descargas parciales   ARC(I)_ARC(D)\n74  809578    realizar analisis dga y humedad seguimiento         OIL.TAP\n75  809578             adecuar tuberia toma muestreo oltc         OIL.TAP\n76  809578       realizar muestreo-analisis fsco-qco oltc         OIL.TAP\n77  809578                 revisar senalizacion del oltc.         OIL.TAP\n78  809578                            cambiar silica oltc         OIL.TAP\n79  809578  revisar/cambiar contador cambiador tapsbiador         OIL.TAP\n0   809578       realizar muestreo-analisis fsco-qco oltc   DIEL.PF_ DIEL\n1   809578        realizar prueba estimacion humedad whrt   DIEL.PF_ DIEL\n2   809578    realizar analisis dga y humedad seguimiento   DIEL.PF_ DIEL\n3   809578  hacer seguimiento generacion anormal de gases   DIEL.PF_ DIEL",
            "text/html": "<div>\n<style scoped>\n    .dataframe tbody tr th:only-of-type {\n        vertical-align: middle;\n    }\n\n    .dataframe tbody tr th {\n        vertical-align: top;\n    }\n\n    .dataframe thead th {\n        text-align: right;\n    }\n</style>\n<table border=\"1\" class=\"dataframe\">\n  <thead>\n    <tr style=\"text-align: right;\">\n      <th></th>\n      <th>Equipo</th>\n      <th>Descripción</th>\n      <th>Medida</th>\n    </tr>\n  </thead>\n  <tbody>\n    <tr>\n      <th>0</th>\n      <td>809578</td>\n      <td>realizar analisis dga y humedad seguimiento</td>\n      <td>T-PAP(C)_T-ACE</td>\n    </tr>\n    <tr>\n      <th>1</th>\n      <td>809578</td>\n      <td>revisar/cambiar motoventilador</td>\n      <td>T-PAP(C)_T-ACE</td>\n    </tr>\n    <tr>\n      <th>2</th>\n      <td>809578</td>\n      <td>efectuar seguimiento anomalia termica</td>\n      <td>T-PAP(C)_T-ACE</td>\n    </tr>\n    <tr>\n      <th>3</th>\n      <td>809578</td>\n      <td>realizar muestreo-analisis fsco-qco oltc</td>\n      <td>T-PAP(C)_T-ACE</td>\n    </tr>\n    <tr>\n      <th>0</th>\n      <td>809578</td>\n      <td>realizar analisis dga y humedad seguimiento</td>\n      <td>ARC(I)_ARC(D)</td>\n    </tr>\n    <tr>\n      <th>1</th>\n      <td>809578</td>\n      <td>efectuar prueba de descargas parciales</td>\n      <td>ARC(I)_ARC(D)</td>\n    </tr>\n    <tr>\n      <th>74</th>\n      <td>809578</td>\n      <td>realizar analisis dga y humedad seguimiento</td>\n      <td>OIL.TAP</td>\n    </tr>\n    <tr>\n      <th>75</th>\n      <td>809578</td>\n      <td>adecuar tuberia toma muestreo oltc</td>\n      <td>OIL.TAP</td>\n    </tr>\n    <tr>\n      <th>76</th>\n      <td>809578</td>\n      <td>realizar muestreo-analisis fsco-qco oltc</td>\n      <td>OIL.TAP</td>\n    </tr>\n    <tr>\n      <th>77</th>\n      <td>809578</td>\n      <td>revisar senalizacion del oltc.</td>\n      <td>OIL.TAP</td>\n    </tr>\n    <tr>\n      <th>78</th>\n      <td>809578</td>\n      <td>cambiar silica oltc</td>\n      <td>OIL.TAP</td>\n    </tr>\n    <tr>\n      <th>79</th>\n      <td>809578</td>\n      <td>revisar/cambiar contador cambiador tapsbiador</td>\n      <td>OIL.TAP</td>\n    </tr>\n    <tr>\n      <th>0</th>\n      <td>809578</td>\n      <td>realizar muestreo-analisis fsco-qco oltc</td>\n      <td>DIEL.PF_ DIEL</td>\n    </tr>\n    <tr>\n      <th>1</th>\n      <td>809578</td>\n      <td>realizar prueba estimacion humedad whrt</td>\n      <td>DIEL.PF_ DIEL</td>\n    </tr>\n    <tr>\n      <th>2</th>\n      <td>809578</td>\n      <td>realizar analisis dga y humedad seguimiento</td>\n      <td>DIEL.PF_ DIEL</td>\n    </tr>\n    <tr>\n      <th>3</th>\n      <td>809578</td>\n      <td>hacer seguimiento generacion anormal de gases</td>\n      <td>DIEL.PF_ DIEL</td>\n    </tr>\n  </tbody>\n</table>\n</div>"
          },
          "metadata": {}
        }
      ],
      "execution_count": 13,
      "metadata": {
        "jupyter": {
          "source_hidden": false,
          "outputs_hidden": false
        },
        "nteract": {
          "transient": {
            "deleting": false
          }
        },
        "gather": {
          "logged": 1633720926517
        }
      }
    },
    {
      "cell_type": "code",
      "source": [
        "import pyodbc\r\n",
        "from sqlalchemy import create_engine\r\n",
        "from urllib.parse import quote_plus\r\n",
        "\r\n",
        "server = 'compartidos.database.windows.net'\r\n",
        "database = 'DB_SQL_RECSYS'\r\n",
        "username = 'sant_vel'\r\n",
        "password = 'Conexiones2030'   \r\n",
        "driver= '{ODBC Driver 17 for SQL Server}'\r\n",
        "\r\n",
        "cnxn = pyodbc.connect('DRIVER='+driver+';SERVER=tcp:'+server+';PORT=1433;DATABASE='+database+';UID='+username+';PWD='+ password)\r\n",
        "cursor = cnxn.cursor()\r\n",
        "#Truncate the table\r\n",
        "cursor.execute(\"TRUNCATE TABLE acciones_por_equipo;\")\r\n",
        "\r\n",
        "# Insert Dataframe into SQL Server:\r\n",
        "for index, row in df.iterrows():\r\n",
        "\r\n",
        "    cursor.execute(\"INSERT INTO acciones_por_equipo (id,accion,medida) values(?,?,?)\", row['Equipo'], row['Descripción'], row['Medida'])\r\n",
        "cnxn.commit()\r\n",
        "cursor.close()"
      ],
      "outputs": [],
      "execution_count": 16,
      "metadata": {
        "jupyter": {
          "source_hidden": false,
          "outputs_hidden": false
        },
        "nteract": {
          "transient": {
            "deleting": false
          }
        },
        "gather": {
          "logged": 1633721024729
        }
      }
    }
  ],
  "metadata": {
    "kernelspec": {
      "name": "python38-azureml",
      "language": "python",
      "display_name": "Python 3.8 - AzureML"
    },
    "language_info": {
      "name": "python",
      "version": "3.8.1",
      "mimetype": "text/x-python",
      "codemirror_mode": {
        "name": "ipython",
        "version": 3
      },
      "pygments_lexer": "ipython3",
      "nbconvert_exporter": "python",
      "file_extension": ".py"
    },
    "nteract": {
      "version": "nteract-front-end@1.0.0"
    },
    "kernel_info": {
      "name": "python38-azureml"
    },
    "microsoft": {
      "host": {
        "AzureML": {
          "notebookHasBeenCompleted": true
        }
      }
    }
  },
  "nbformat": 4,
  "nbformat_minor": 2
}